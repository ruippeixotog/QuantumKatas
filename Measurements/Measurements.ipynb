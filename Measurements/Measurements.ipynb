{
 "cells": [
  {
   "cell_type": "markdown",
   "metadata": {},
   "source": [
    "# Measurements Kata\n",
    "\n",
    "The **Measurements** quantum kata is a series of exercises designed\n",
    "to get you familiar with the concept of measurements and with programming in Q#.\n",
    "It covers the following topics:\n",
    "* single-qubit measurements,\n",
    "* discriminating orthogonal and nonorthogonal states.\n",
    "\n",
    "Each task is wrapped in one operation preceded by the description of the task.\n",
    "Your goal is to fill in the blank (marked with `// ...` comments)\n",
    "with some Q# code that solves the task. To verify your answer, run the cell using Ctrl/⌘+Enter.\n",
    "\n",
    "The tasks are given in approximate order of increasing difficulty; harder ones are marked with asterisks."
   ]
  },
  {
   "cell_type": "markdown",
   "metadata": {},
   "source": [
    "To begin, first prepare this notebook for execution (if you skip the first step, you'll get \"Syntax does not match any known patterns\" error when you try to execute Q# code in the next cells; if you skip the second step, you'll get \"Invalid test name\" error):"
   ]
  },
  {
   "cell_type": "code",
   "execution_count": 1,
   "metadata": {},
   "outputs": [
    {
     "data": {
      "application/json": "{\"LastUpdated\":\"2020-07-29T23:00:26.124219+01:00\",\"IsCompleted\":true,\"Description\":\"Adding package Microsoft.Quantum.Katas::0.12.20072031\",\"Subtask\":\"done\"}",
      "text/plain": [
       "Adding package Microsoft.Quantum.Katas::0.12.20072031: done!"
      ]
     },
     "metadata": {},
     "output_type": "display_data"
    },
    {
     "data": {
      "application/json": "[\"Microsoft.Quantum.Standard::0.12.20070124\",\"Microsoft.Quantum.Katas::0.12.20072031\"]",
      "text/html": [
       "<ul><li>Microsoft.Quantum.Standard::0.12.20070124</li><li>Microsoft.Quantum.Katas::0.12.20072031</li></ul>"
      ],
      "text/plain": [
       "Microsoft.Quantum.Standard::0.12.20070124, Microsoft.Quantum.Katas::0.12.20072031"
      ]
     },
     "execution_count": 1,
     "metadata": {},
     "output_type": "execute_result"
    }
   ],
   "source": [
    "%package Microsoft.Quantum.Katas::0.12.20072031"
   ]
  },
  {
   "cell_type": "markdown",
   "metadata": {},
   "source": [
    "> The package versions in the output of the cell above should always match. If you are running the Notebooks locally and the versions do not match, please install the IQ# version that matches the version of the `Microsoft.Quantum.Katas` package.\n",
    "> <details>\n",
    "> <summary><u>How to install the right IQ# version</u></summary>\n",
    "> For example, if the version of `Microsoft.Quantum.Katas` package above is 0.1.2.3, the installation steps are as follows:\n",
    ">\n",
    "> 1. Stop the kernel.\n",
    "> 2. Uninstall the existing version of IQ#:\n",
    ">        dotnet tool uninstall microsoft.quantum.iqsharp -g\n",
    "> 3. Install the matching version:\n",
    ">        dotnet tool install microsoft.quantum.iqsharp -g --version 0.1.2.3\n",
    "> 4. Reinstall the kernel:\n",
    ">        dotnet iqsharp install\n",
    "> 5. Restart the Notebook.\n",
    "> </details>\n"
   ]
  },
  {
   "cell_type": "code",
   "execution_count": 2,
   "metadata": {},
   "outputs": [
    {
     "data": {
      "application/json": "[\"Quantum.Kata.Measurements.ABC_DistinguishStates_MultiQubit_Threshold\",\"Quantum.Kata.Measurements.AllZerosOrWState\",\"Quantum.Kata.Measurements.AllZerosOrWState_Alternate\",\"Quantum.Kata.Measurements.AllZerosOrWState_Reference\",\"Quantum.Kata.Measurements.BasisStateMeasurement\",\"Quantum.Kata.Measurements.BasisStateMeasurement_Reference\",\"Quantum.Kata.Measurements.BellState\",\"Quantum.Kata.Measurements.BellState_Reference\",\"Quantum.Kata.Measurements.BoolArrayAsKetState\",\"Quantum.Kata.Measurements.CheckSuperpositionBitstringsMeasurement\",\"Quantum.Kata.Measurements.CheckSuperpositionBitstringsOneMeasurement\",\"Quantum.Kata.Measurements.CheckTwoBitstringsMeasurement\",\"Quantum.Kata.Measurements.DistinguishStates_MultiQubit\",\"Quantum.Kata.Measurements.DistinguishStates_MultiQubit_Threshold\",\"Quantum.Kata.Measurements.DistinguishTwoStates_OneQubit\",\"Quantum.Kata.Measurements.FindFirstDiff_Reference\",\"Quantum.Kata.Measurements.FindFirstSuperpositionDiff_Reference\",\"Quantum.Kata.Measurements.GHZ_State_Reference\",\"Quantum.Kata.Measurements.GHZOrWState\",\"Quantum.Kata.Measurements.GHZOrWState_Alternate\",\"Quantum.Kata.Measurements.GHZOrWState_Reference\",\"Quantum.Kata.Measurements.InitializeQubit\",\"Quantum.Kata.Measurements.InitializeQubit_Reference\",\"Quantum.Kata.Measurements.IntArrayAsStateName\",\"Quantum.Kata.Measurements.IsQubitA\",\"Quantum.Kata.Measurements.IsQubitA_Reference\",\"Quantum.Kata.Measurements.IsQubitNotInABC\",\"Quantum.Kata.Measurements.IsQubitNotInABC_Reference\",\"Quantum.Kata.Measurements.IsQubitOne\",\"Quantum.Kata.Measurements.IsQubitOne_Reference\",\"Quantum.Kata.Measurements.IsQubitPlus\",\"Quantum.Kata.Measurements.IsQubitPlus_Reference\",\"Quantum.Kata.Measurements.IsQubitPlusOrZero\",\"Quantum.Kata.Measurements.IsQubitPlusOrZero_Reference\",\"Quantum.Kata.Measurements.IsQubitPlusZeroOrInconclusiveSimpleUSD\",\"Quantum.Kata.Measurements.IsQubitPlusZeroOrInconclusiveSimpleUSD_Reference\",\"Quantum.Kata.Measurements.StatePrep_AllZerosOrWState\",\"Quantum.Kata.Measurements.StatePrep_BasisStateMeasurement\",\"Quantum.Kata.Measurements.StatePrep_BellState\",\"Quantum.Kata.Measurements.StatePrep_Bitstring\",\"Quantum.Kata.Measurements.StatePrep_BitstringSuperposition\",\"Quantum.Kata.Measurements.StatePrep_FindFirstDiff\",\"Quantum.Kata.Measurements.StatePrep_GHZOrWState\",\"Quantum.Kata.Measurements.StatePrep_IsQubitA\",\"Quantum.Kata.Measurements.StatePrep_IsQubitNotInABC\",\"Quantum.Kata.Measurements.StatePrep_IsQubitOne\",\"Quantum.Kata.Measurements.StatePrep_IsQubitPlus\",\"Quantum.Kata.Measurements.StatePrep_IsQubitZeroOrPlus\",\"Quantum.Kata.Measurements.StatePrep_SuperpositionMeasurement\",\"Quantum.Kata.Measurements.StatePrep_ThreeQubitMeasurement\",\"Quantum.Kata.Measurements.StatePrep_TwoBitstringsMeasurement\",\"Quantum.Kata.Measurements.StatePrep_TwoQubitState\",\"Quantum.Kata.Measurements.StatePrep_TwoQubitStatePartTwo\",\"Quantum.Kata.Measurements.StatePrep_ZeroZeroOrOneOne\",\"Quantum.Kata.Measurements.SuperpositionMeasurement\",\"Quantum.Kata.Measurements.SuperpositionMeasurement_Alternate\",\"Quantum.Kata.Measurements.SuperpositionMeasurement_Reference\",\"Quantum.Kata.Measurements.SuperpositionOneMeasurement\",\"Quantum.Kata.Measurements.SuperpositionOneMeasurement_Reference\",\"Quantum.Kata.Measurements.T101_IsQubitOne_Test\",\"Quantum.Kata.Measurements.T102_InitializeQubit_Test\",\"Quantum.Kata.Measurements.T103_IsQubitPlus_Test\",\"Quantum.Kata.Measurements.T104_IsQubitA_Test\",\"Quantum.Kata.Measurements.T105_ZeroZeroOrOneOne_Test\",\"Quantum.Kata.Measurements.T106_BasisStateMeasurement_Test\",\"Quantum.Kata.Measurements.T107_TwoBitstringsMeasurement_Test\",\"Quantum.Kata.Measurements.T108_SuperpositionOneMeasurement_Test\",\"Quantum.Kata.Measurements.T109_SuperpositionMeasurement_Test\",\"Quantum.Kata.Measurements.T110_AllZerosOrWState_Test\",\"Quantum.Kata.Measurements.T111_GHZOrWState_Test\",\"Quantum.Kata.Measurements.T112_BellState_Test\",\"Quantum.Kata.Measurements.T113_TwoQubitState_Test\",\"Quantum.Kata.Measurements.T114_TwoQubitStatePartTwo_Test\",\"Quantum.Kata.Measurements.T115_ThreeQubitMeasurement_Test\",\"Quantum.Kata.Measurements.T201_IsQubitZeroOrPlus_Test\",\"Quantum.Kata.Measurements.T202_IsQubitZeroOrPlusSimpleUSD_Test\",\"Quantum.Kata.Measurements.T203_IsQubitNotInABC_Test\",\"Quantum.Kata.Measurements.ThreeQubitMeasurement\",\"Quantum.Kata.Measurements.ThreeQubitMeasurement_Reference\",\"Quantum.Kata.Measurements.ThreeQubitMeasurement_SimpleMeasurement\",\"Quantum.Kata.Measurements.TwoBitstringsMeasurement\",\"Quantum.Kata.Measurements.TwoBitstringsMeasurement_Reference\",\"Quantum.Kata.Measurements.TwoQubitState\",\"Quantum.Kata.Measurements.TwoQubitState_Reference\",\"Quantum.Kata.Measurements.TwoQubitStatePartTwo\",\"Quantum.Kata.Measurements.TwoQubitStatePartTwo_Alternate\",\"Quantum.Kata.Measurements.TwoQubitStatePartTwo_Reference\",\"Quantum.Kata.Measurements.USD_DistinguishStates_MultiQubit_Threshold\",\"Quantum.Kata.Measurements.WState_Arbitrary_Reference\",\"Quantum.Kata.Measurements.ZeroZeroOrOneOne\",\"Quantum.Kata.Measurements.ZeroZeroOrOneOne_Reference\"]",
      "text/html": [
       "<ul><li>Quantum.Kata.Measurements.ABC_DistinguishStates_MultiQubit_Threshold</li><li>Quantum.Kata.Measurements.AllZerosOrWState</li><li>Quantum.Kata.Measurements.AllZerosOrWState_Alternate</li><li>Quantum.Kata.Measurements.AllZerosOrWState_Reference</li><li>Quantum.Kata.Measurements.BasisStateMeasurement</li><li>Quantum.Kata.Measurements.BasisStateMeasurement_Reference</li><li>Quantum.Kata.Measurements.BellState</li><li>Quantum.Kata.Measurements.BellState_Reference</li><li>Quantum.Kata.Measurements.BoolArrayAsKetState</li><li>Quantum.Kata.Measurements.CheckSuperpositionBitstringsMeasurement</li><li>Quantum.Kata.Measurements.CheckSuperpositionBitstringsOneMeasurement</li><li>Quantum.Kata.Measurements.CheckTwoBitstringsMeasurement</li><li>Quantum.Kata.Measurements.DistinguishStates_MultiQubit</li><li>Quantum.Kata.Measurements.DistinguishStates_MultiQubit_Threshold</li><li>Quantum.Kata.Measurements.DistinguishTwoStates_OneQubit</li><li>Quantum.Kata.Measurements.FindFirstDiff_Reference</li><li>Quantum.Kata.Measurements.FindFirstSuperpositionDiff_Reference</li><li>Quantum.Kata.Measurements.GHZ_State_Reference</li><li>Quantum.Kata.Measurements.GHZOrWState</li><li>Quantum.Kata.Measurements.GHZOrWState_Alternate</li><li>Quantum.Kata.Measurements.GHZOrWState_Reference</li><li>Quantum.Kata.Measurements.InitializeQubit</li><li>Quantum.Kata.Measurements.InitializeQubit_Reference</li><li>Quantum.Kata.Measurements.IntArrayAsStateName</li><li>Quantum.Kata.Measurements.IsQubitA</li><li>Quantum.Kata.Measurements.IsQubitA_Reference</li><li>Quantum.Kata.Measurements.IsQubitNotInABC</li><li>Quantum.Kata.Measurements.IsQubitNotInABC_Reference</li><li>Quantum.Kata.Measurements.IsQubitOne</li><li>Quantum.Kata.Measurements.IsQubitOne_Reference</li><li>Quantum.Kata.Measurements.IsQubitPlus</li><li>Quantum.Kata.Measurements.IsQubitPlus_Reference</li><li>Quantum.Kata.Measurements.IsQubitPlusOrZero</li><li>Quantum.Kata.Measurements.IsQubitPlusOrZero_Reference</li><li>Quantum.Kata.Measurements.IsQubitPlusZeroOrInconclusiveSimpleUSD</li><li>Quantum.Kata.Measurements.IsQubitPlusZeroOrInconclusiveSimpleUSD_Reference</li><li>Quantum.Kata.Measurements.StatePrep_AllZerosOrWState</li><li>Quantum.Kata.Measurements.StatePrep_BasisStateMeasurement</li><li>Quantum.Kata.Measurements.StatePrep_BellState</li><li>Quantum.Kata.Measurements.StatePrep_Bitstring</li><li>Quantum.Kata.Measurements.StatePrep_BitstringSuperposition</li><li>Quantum.Kata.Measurements.StatePrep_FindFirstDiff</li><li>Quantum.Kata.Measurements.StatePrep_GHZOrWState</li><li>Quantum.Kata.Measurements.StatePrep_IsQubitA</li><li>Quantum.Kata.Measurements.StatePrep_IsQubitNotInABC</li><li>Quantum.Kata.Measurements.StatePrep_IsQubitOne</li><li>Quantum.Kata.Measurements.StatePrep_IsQubitPlus</li><li>Quantum.Kata.Measurements.StatePrep_IsQubitZeroOrPlus</li><li>Quantum.Kata.Measurements.StatePrep_SuperpositionMeasurement</li><li>Quantum.Kata.Measurements.StatePrep_ThreeQubitMeasurement</li><li>Quantum.Kata.Measurements.StatePrep_TwoBitstringsMeasurement</li><li>Quantum.Kata.Measurements.StatePrep_TwoQubitState</li><li>Quantum.Kata.Measurements.StatePrep_TwoQubitStatePartTwo</li><li>Quantum.Kata.Measurements.StatePrep_ZeroZeroOrOneOne</li><li>Quantum.Kata.Measurements.SuperpositionMeasurement</li><li>Quantum.Kata.Measurements.SuperpositionMeasurement_Alternate</li><li>Quantum.Kata.Measurements.SuperpositionMeasurement_Reference</li><li>Quantum.Kata.Measurements.SuperpositionOneMeasurement</li><li>Quantum.Kata.Measurements.SuperpositionOneMeasurement_Reference</li><li>Quantum.Kata.Measurements.T101_IsQubitOne_Test</li><li>Quantum.Kata.Measurements.T102_InitializeQubit_Test</li><li>Quantum.Kata.Measurements.T103_IsQubitPlus_Test</li><li>Quantum.Kata.Measurements.T104_IsQubitA_Test</li><li>Quantum.Kata.Measurements.T105_ZeroZeroOrOneOne_Test</li><li>Quantum.Kata.Measurements.T106_BasisStateMeasurement_Test</li><li>Quantum.Kata.Measurements.T107_TwoBitstringsMeasurement_Test</li><li>Quantum.Kata.Measurements.T108_SuperpositionOneMeasurement_Test</li><li>Quantum.Kata.Measurements.T109_SuperpositionMeasurement_Test</li><li>Quantum.Kata.Measurements.T110_AllZerosOrWState_Test</li><li>Quantum.Kata.Measurements.T111_GHZOrWState_Test</li><li>Quantum.Kata.Measurements.T112_BellState_Test</li><li>Quantum.Kata.Measurements.T113_TwoQubitState_Test</li><li>Quantum.Kata.Measurements.T114_TwoQubitStatePartTwo_Test</li><li>Quantum.Kata.Measurements.T115_ThreeQubitMeasurement_Test</li><li>Quantum.Kata.Measurements.T201_IsQubitZeroOrPlus_Test</li><li>Quantum.Kata.Measurements.T202_IsQubitZeroOrPlusSimpleUSD_Test</li><li>Quantum.Kata.Measurements.T203_IsQubitNotInABC_Test</li><li>Quantum.Kata.Measurements.ThreeQubitMeasurement</li><li>Quantum.Kata.Measurements.ThreeQubitMeasurement_Reference</li><li>Quantum.Kata.Measurements.ThreeQubitMeasurement_SimpleMeasurement</li><li>Quantum.Kata.Measurements.TwoBitstringsMeasurement</li><li>Quantum.Kata.Measurements.TwoBitstringsMeasurement_Reference</li><li>Quantum.Kata.Measurements.TwoQubitState</li><li>Quantum.Kata.Measurements.TwoQubitState_Reference</li><li>Quantum.Kata.Measurements.TwoQubitStatePartTwo</li><li>Quantum.Kata.Measurements.TwoQubitStatePartTwo_Alternate</li><li>Quantum.Kata.Measurements.TwoQubitStatePartTwo_Reference</li><li>Quantum.Kata.Measurements.USD_DistinguishStates_MultiQubit_Threshold</li><li>Quantum.Kata.Measurements.WState_Arbitrary_Reference</li><li>Quantum.Kata.Measurements.ZeroZeroOrOneOne</li><li>Quantum.Kata.Measurements.ZeroZeroOrOneOne_Reference</li></ul>"
      ],
      "text/plain": [
       "Quantum.Kata.Measurements.ABC_DistinguishStates_MultiQubit_Threshold, Quantum.Kata.Measurements.AllZerosOrWState, Quantum.Kata.Measurements.AllZerosOrWState_Alternate, Quantum.Kata.Measurements.AllZerosOrWState_Reference, Quantum.Kata.Measurements.BasisStateMeasurement, Quantum.Kata.Measurements.BasisStateMeasurement_Reference, Quantum.Kata.Measurements.BellState, Quantum.Kata.Measurements.BellState_Reference, Quantum.Kata.Measurements.BoolArrayAsKetState, Quantum.Kata.Measurements.CheckSuperpositionBitstringsMeasurement, Quantum.Kata.Measurements.CheckSuperpositionBitstringsOneMeasurement, Quantum.Kata.Measurements.CheckTwoBitstringsMeasurement, Quantum.Kata.Measurements.DistinguishStates_MultiQubit, Quantum.Kata.Measurements.DistinguishStates_MultiQubit_Threshold, Quantum.Kata.Measurements.DistinguishTwoStates_OneQubit, Quantum.Kata.Measurements.FindFirstDiff_Reference, Quantum.Kata.Measurements.FindFirstSuperpositionDiff_Reference, Quantum.Kata.Measurements.GHZ_State_Reference, Quantum.Kata.Measurements.GHZOrWState, Quantum.Kata.Measurements.GHZOrWState_Alternate, Quantum.Kata.Measurements.GHZOrWState_Reference, Quantum.Kata.Measurements.InitializeQubit, Quantum.Kata.Measurements.InitializeQubit_Reference, Quantum.Kata.Measurements.IntArrayAsStateName, Quantum.Kata.Measurements.IsQubitA, Quantum.Kata.Measurements.IsQubitA_Reference, Quantum.Kata.Measurements.IsQubitNotInABC, Quantum.Kata.Measurements.IsQubitNotInABC_Reference, Quantum.Kata.Measurements.IsQubitOne, Quantum.Kata.Measurements.IsQubitOne_Reference, Quantum.Kata.Measurements.IsQubitPlus, Quantum.Kata.Measurements.IsQubitPlus_Reference, Quantum.Kata.Measurements.IsQubitPlusOrZero, Quantum.Kata.Measurements.IsQubitPlusOrZero_Reference, Quantum.Kata.Measurements.IsQubitPlusZeroOrInconclusiveSimpleUSD, Quantum.Kata.Measurements.IsQubitPlusZeroOrInconclusiveSimpleUSD_Reference, Quantum.Kata.Measurements.StatePrep_AllZerosOrWState, Quantum.Kata.Measurements.StatePrep_BasisStateMeasurement, Quantum.Kata.Measurements.StatePrep_BellState, Quantum.Kata.Measurements.StatePrep_Bitstring, Quantum.Kata.Measurements.StatePrep_BitstringSuperposition, Quantum.Kata.Measurements.StatePrep_FindFirstDiff, Quantum.Kata.Measurements.StatePrep_GHZOrWState, Quantum.Kata.Measurements.StatePrep_IsQubitA, Quantum.Kata.Measurements.StatePrep_IsQubitNotInABC, Quantum.Kata.Measurements.StatePrep_IsQubitOne, Quantum.Kata.Measurements.StatePrep_IsQubitPlus, Quantum.Kata.Measurements.StatePrep_IsQubitZeroOrPlus, Quantum.Kata.Measurements.StatePrep_SuperpositionMeasurement, Quantum.Kata.Measurements.StatePrep_ThreeQubitMeasurement, Quantum.Kata.Measurements.StatePrep_TwoBitstringsMeasurement, Quantum.Kata.Measurements.StatePrep_TwoQubitState, Quantum.Kata.Measurements.StatePrep_TwoQubitStatePartTwo, Quantum.Kata.Measurements.StatePrep_ZeroZeroOrOneOne, Quantum.Kata.Measurements.SuperpositionMeasurement, Quantum.Kata.Measurements.SuperpositionMeasurement_Alternate, Quantum.Kata.Measurements.SuperpositionMeasurement_Reference, Quantum.Kata.Measurements.SuperpositionOneMeasurement, Quantum.Kata.Measurements.SuperpositionOneMeasurement_Reference, Quantum.Kata.Measurements.T101_IsQubitOne_Test, Quantum.Kata.Measurements.T102_InitializeQubit_Test, Quantum.Kata.Measurements.T103_IsQubitPlus_Test, Quantum.Kata.Measurements.T104_IsQubitA_Test, Quantum.Kata.Measurements.T105_ZeroZeroOrOneOne_Test, Quantum.Kata.Measurements.T106_BasisStateMeasurement_Test, Quantum.Kata.Measurements.T107_TwoBitstringsMeasurement_Test, Quantum.Kata.Measurements.T108_SuperpositionOneMeasurement_Test, Quantum.Kata.Measurements.T109_SuperpositionMeasurement_Test, Quantum.Kata.Measurements.T110_AllZerosOrWState_Test, Quantum.Kata.Measurements.T111_GHZOrWState_Test, Quantum.Kata.Measurements.T112_BellState_Test, Quantum.Kata.Measurements.T113_TwoQubitState_Test, Quantum.Kata.Measurements.T114_TwoQubitStatePartTwo_Test, Quantum.Kata.Measurements.T115_ThreeQubitMeasurement_Test, Quantum.Kata.Measurements.T201_IsQubitZeroOrPlus_Test, Quantum.Kata.Measurements.T202_IsQubitZeroOrPlusSimpleUSD_Test, Quantum.Kata.Measurements.T203_IsQubitNotInABC_Test, Quantum.Kata.Measurements.ThreeQubitMeasurement, Quantum.Kata.Measurements.ThreeQubitMeasurement_Reference, Quantum.Kata.Measurements.ThreeQubitMeasurement_SimpleMeasurement, Quantum.Kata.Measurements.TwoBitstringsMeasurement, Quantum.Kata.Measurements.TwoBitstringsMeasurement_Reference, Quantum.Kata.Measurements.TwoQubitState, Quantum.Kata.Measurements.TwoQubitState_Reference, Quantum.Kata.Measurements.TwoQubitStatePartTwo, Quantum.Kata.Measurements.TwoQubitStatePartTwo_Alternate, Quantum.Kata.Measurements.TwoQubitStatePartTwo_Reference, Quantum.Kata.Measurements.USD_DistinguishStates_MultiQubit_Threshold, Quantum.Kata.Measurements.WState_Arbitrary_Reference, Quantum.Kata.Measurements.ZeroZeroOrOneOne, Quantum.Kata.Measurements.ZeroZeroOrOneOne_Reference"
      ]
     },
     "execution_count": 2,
     "metadata": {},
     "output_type": "execute_result"
    }
   ],
   "source": [
    "%workspace reload"
   ]
  },
  {
   "cell_type": "markdown",
   "metadata": {},
   "source": [
    "## Part I. Discriminating Orthogonal States"
   ]
  },
  {
   "cell_type": "markdown",
   "metadata": {},
   "source": [
    "### Task 1.1. $|0\\rangle$ or $|1\\rangle$?\n",
    "\n",
    "**Input:** A qubit which is guaranteed to be in either the $|0\\rangle$ or the $|1\\rangle$ state.\n",
    "\n",
    "**Output:**  `true` if the qubit was in the $|1\\rangle$ state, or `false` if it was in the $|0\\rangle$ state. The state of the qubit at the end of the operation does not matter."
   ]
  },
  {
   "cell_type": "code",
   "execution_count": 3,
   "metadata": {},
   "outputs": [
    {
     "data": {
      "application/json": "\"Success!\"",
      "text/plain": [
       "Success!"
      ]
     },
     "execution_count": 3,
     "metadata": {},
     "output_type": "execute_result"
    }
   ],
   "source": [
    "%kata T101_IsQubitOne_Test \n",
    "\n",
    "operation IsQubitOne (q : Qubit) : Bool {\n",
    "    return M(q) == One;\n",
    "}"
   ]
  },
  {
   "cell_type": "markdown",
   "metadata": {},
   "source": [
    "*Can't come up with a solution? See the explained solution in the [Measurements Workbook](./Workbook_Measurements.ipynb#Task-1.1.-$|0\\rangle$-or-$|1\\rangle$?).*"
   ]
  },
  {
   "cell_type": "markdown",
   "metadata": {},
   "source": [
    "### Task 1.2. Set the qubit to the $|0\\rangle$ state.\n",
    "\n",
    "**Input:** A qubit in an arbitrary state.\n",
    "\n",
    "**Goal:**  Change the state of the qubit to $|0\\rangle$."
   ]
  },
  {
   "cell_type": "code",
   "execution_count": 4,
   "metadata": {},
   "outputs": [
    {
     "data": {
      "application/json": "\"Success!\"",
      "text/plain": [
       "Success!"
      ]
     },
     "execution_count": 4,
     "metadata": {},
     "output_type": "execute_result"
    }
   ],
   "source": [
    "%kata T102_InitializeQubit_Test \n",
    "\n",
    "operation InitializeQubit (q : Qubit) : Unit {\n",
    "    Reset(q);\n",
    "}"
   ]
  },
  {
   "cell_type": "markdown",
   "metadata": {},
   "source": [
    "*Can't come up with a solution? See the explained solution in the [Measurements Workbook](./Workbook_Measurements.ipynb#Task-1.2.-Set-the-qubit-to-the-$|0\\rangle$-state.).*"
   ]
  },
  {
   "cell_type": "markdown",
   "metadata": {},
   "source": [
    "### Task 1.3. $|+\\rangle$ or $|-\\rangle$?\n",
    "\n",
    "**Input:** A qubit which is guaranteed to be in either the $|+\\rangle$ or the $|-\\rangle$ state. As a reminder, $|+\\rangle = \\frac{1}{\\sqrt{2}} \\big(|0\\rangle + |1\\rangle\\big)$, $|-\\rangle = \\frac{1}{\\sqrt{2}} \\big(|0\\rangle - |1\\rangle\\big)$.\n",
    "\n",
    "**Output:** `true` if the qubit was in the $|+\\rangle$ state, or `false` if it was in the $|-\\rangle$ state. The state of the qubit at the end of the operation does not matter."
   ]
  },
  {
   "cell_type": "code",
   "execution_count": 5,
   "metadata": {},
   "outputs": [
    {
     "data": {
      "application/json": "\"Success!\"",
      "text/plain": [
       "Success!"
      ]
     },
     "execution_count": 5,
     "metadata": {},
     "output_type": "execute_result"
    }
   ],
   "source": [
    "%kata T103_IsQubitPlus_Test \n",
    "\n",
    "operation IsQubitPlus (q : Qubit) : Bool {\n",
    "    H(q);\n",
    "    return M(q) == Zero;\n",
    "}"
   ]
  },
  {
   "cell_type": "markdown",
   "metadata": {},
   "source": [
    "*Can't come up with a solution? See the explained solution in the [Measurements Workbook](./Workbook_Measurements.ipynb#Task-1.3.-$|+\\rangle$-or-$|-\\rangle$?).*"
   ]
  },
  {
   "cell_type": "markdown",
   "metadata": {},
   "source": [
    "### Task 1.4. $|A\\rangle$ or $|B\\rangle$?\n",
    "\n",
    "**Inputs:** \n",
    "\n",
    "1. Angle $\\alpha$, in radians, represented as a `Double`.\n",
    "2. A qubit which is guaranteed to be in either the $|A\\rangle$ or the $|B\\rangle$ state, where $|A\\rangle = \\cos \\alpha |0\\rangle + \\sin \\alpha |1\\rangle$ and $|B\\rangle = - \\sin \\alpha |0\\rangle + \\cos \\alpha |1\\rangle$.\n",
    "\n",
    "**Output:** `true` if the qubit was in the $|A\\rangle$ state, or `false` if it was in the $|B\\rangle$ state. The state of the qubit at the end of the operation does not matter."
   ]
  },
  {
   "cell_type": "code",
   "execution_count": 6,
   "metadata": {},
   "outputs": [
    {
     "data": {
      "application/json": "\"Success!\"",
      "text/plain": [
       "Success!"
      ]
     },
     "execution_count": 6,
     "metadata": {},
     "output_type": "execute_result"
    }
   ],
   "source": [
    "%kata T104_IsQubitA_Test\n",
    "\n",
    "operation IsQubitA (alpha : Double, q : Qubit) : Bool {\n",
    "    Ry(-2.0 * alpha, q);\n",
    "    return M(q) == Zero;\n",
    "}"
   ]
  },
  {
   "cell_type": "markdown",
   "metadata": {},
   "source": [
    "*Can't come up with a solution? See the explained solution in the [Measurements Workbook](./Workbook_Measurements.ipynb#Task-1.4.-$|A\\rangle$-or-$|B\\rangle$?).*"
   ]
  },
  {
   "cell_type": "markdown",
   "metadata": {},
   "source": [
    "### Task 1.5. $|00\\rangle$ or $|11\\rangle$?\n",
    "\n",
    "**Input:** Two qubits (stored in an array of length 2) which are guaranteed to be in either the $|00\\rangle$ or the $|11\\rangle$ state.\n",
    "\n",
    "**Output:** 0 if the qubits were in the $|00\\rangle$ state, or 1 if they were in the $|11\\rangle$ state. The state of the qubits at the end of the operation does not matter."
   ]
  },
  {
   "cell_type": "code",
   "execution_count": 7,
   "metadata": {},
   "outputs": [
    {
     "data": {
      "application/json": "\"Success!\"",
      "text/plain": [
       "Success!"
      ]
     },
     "execution_count": 7,
     "metadata": {},
     "output_type": "execute_result"
    }
   ],
   "source": [
    "%kata T105_ZeroZeroOrOneOne_Test\n",
    "\n",
    "operation ZeroZeroOrOneOne (qs : Qubit[]) : Int {\n",
    "    return M(qs[0]) == Zero ? 0 | 1;\n",
    "}"
   ]
  },
  {
   "cell_type": "markdown",
   "metadata": {},
   "source": [
    "*Can't come up with a solution? See the explained solution in the [Measurements Workbook](./Workbook_Measurements.ipynb#Task-1.5.-$|00\\rangle$-or-$|11\\rangle$?).*"
   ]
  },
  {
   "cell_type": "markdown",
   "metadata": {},
   "source": [
    "### Task 1.6. Distinguish four basis states.\n",
    "\n",
    "**Input:** Two qubits (stored in an array of length 2) which are guaranteed to be in one of the four basis states ($|00\\rangle$, $|01\\rangle$, $|10\\rangle$, or $|11\\rangle$).\n",
    "\n",
    "**Output:**\n",
    "\n",
    "* 0 if the qubits were in the $|00\\rangle$ state,\n",
    "* 1 if they were in the $|01\\rangle$ state, \n",
    "* 2 if they were in the $|10\\rangle$ state, \n",
    "* 3 if they were in the $|11\\rangle$ state.\n",
    "\n",
    "In this task and the subsequent ones the order of qubit states in task description matches the order of qubits in the array (i.e., $|10\\rangle$ state corresponds to `qs[0]` in state $|1\\rangle$ and `qs[1]` in state $|0\\rangle$).\n",
    "\n",
    "The state of the qubits at the end of the operation does not matter."
   ]
  },
  {
   "cell_type": "code",
   "execution_count": 11,
   "metadata": {},
   "outputs": [
    {
     "data": {
      "application/json": "\"Success!\"",
      "text/plain": [
       "Success!"
      ]
     },
     "execution_count": 11,
     "metadata": {},
     "output_type": "execute_result"
    }
   ],
   "source": [
    "%kata T106_BasisStateMeasurement_Test\n",
    "\n",
    "open Microsoft.Quantum.Arithmetic;\n",
    "\n",
    "operation BasisStateMeasurement (qs : Qubit[]) : Int {\n",
    "    return MeasureInteger(LittleEndian(qs[1..-1..0]));\n",
    "}"
   ]
  },
  {
   "cell_type": "markdown",
   "metadata": {},
   "source": [
    "*Can't come up with a solution? See the explained solution in the [Measurements Workbook](./Workbook_Measurements.ipynb#Task-1.6.-Distinguish-four-basis-states.).*"
   ]
  },
  {
   "cell_type": "markdown",
   "metadata": {},
   "source": [
    "### Task 1.7. Distinguish two basis states given by bit strings\n",
    "\n",
    "**Inputs:** \n",
    "\n",
    "1. $N$ qubits (stored in an array of length $N$) which are guaranteed to be in one of the two basis states described by the given bit strings.\n",
    "2. Two bit strings represented as `Bool[]`s.\n",
    "\n",
    "**Output:** \n",
    "\n",
    "* 0 if the qubits were in the basis state described by the first bit string,\n",
    "* 1 if they were in the basis state described by the second bit string.\n",
    "\n",
    "Bit values `false` and `true` correspond to $|0\\rangle$ and $|1\\rangle$ states. You are guaranteed that both bit strings have the same length as the qubit array, and that the bit strings differ in at least one bit.\n",
    "\n",
    "**You can use exactly one measurement.** The state of the qubits at the end of the operation does not matter.\n",
    "\n",
    "> Example:  for bit strings `[false, true, false]` and `[false, false, true]` return 0 corresponds to state $|010\\rangle$, and return 1 corresponds to state $|001\\rangle$."
   ]
  },
  {
   "cell_type": "code",
   "execution_count": 14,
   "metadata": {},
   "outputs": [
    {
     "data": {
      "application/json": "\"Success!\"",
      "text/plain": [
       "Success!"
      ]
     },
     "execution_count": 14,
     "metadata": {},
     "output_type": "execute_result"
    }
   ],
   "source": [
    "%kata T107_TwoBitstringsMeasurement_Test\n",
    "\n",
    "open Microsoft.Quantum.Convert;\n",
    "\n",
    "operation TwoBitstringsMeasurement (qs : Qubit[], bits1 : Bool[], bits2 : Bool[]) : Int {\n",
    "    for(i in 0..Length(qs)-1) {\n",
    "        if(bits1[i] != bits2[i]) {\n",
    "            return ResultAsBool(M(qs[i])) == bits1[i] ? 0 | 1;\n",
    "        }\n",
    "    }\n",
    "    return -1;\n",
    "}"
   ]
  },
  {
   "cell_type": "markdown",
   "metadata": {},
   "source": [
    "*Can't come up with a solution? See the explained solution in the [Measurements Workbook](./Workbook_Measurements.ipynb#Task-1.7.-Distinguish-two-basis-states-given-by-bit-strings).*"
   ]
  },
  {
   "cell_type": "markdown",
   "metadata": {},
   "source": [
    "### Task 1.8. Distinguish two superposition states given by two arrays of bit strings - 1 measurement\n",
    "\n",
    "**Inputs:** \n",
    "\n",
    "1. $N$ qubits (stored in an array of length $N$) which are guaranteed to be in one of the two superposition states described by the given arrays of bit strings.\n",
    "2. Two arrays of bit strings represented as `Bool[][]`s.  \n",
    "The arrays have dimensions $M_1 \\times N$ and $M_2 \\times N$ respectively, where $N$ is the number of qubits and $M_1$ and $M_2$ are the numbers of bit strings in each array. Note that in general $M_1 \\neq M_2$.  \n",
    "An array of bit strings `[b₁, ..., bₘ]` defines a state that is an equal superposition of all basis states defined by bit strings $b_1, ..., b_m$.  \n",
    "For example, an array of bit strings `[[false, true, false], [false, true, true]]` defines a superposition state $\\frac{1}{\\sqrt2}\\big(|010\\rangle + |011\\rangle\\big)$.\n",
    "\n",
    "You are guaranteed that there exists an index of a qubit Q for which: \n",
    " - all the bit strings in the first array have the same value in this position (all `bits1[j][Q]` are the same),\n",
    " - all the bit strings in the second array have the same value in this position (all `bits2[j][Q]` are the same),\n",
    " - these values are different for the first and the second arrays.\n",
    "\n",
    "> For example, for arrays `[[false, true, false], [false, true, true]]` and `[[true, false, true], [false, false, true]]` return 0 corresponds to state $\\frac{1}{\\sqrt2}\\big(|010\\rangle + |011\\rangle\\big)$, return 1 - to state $\\frac{1}{\\sqrt2}\\big(|101\\rangle + |001\\rangle\\big)$, and you can distinguish these states perfectly by measuring the second qubit.\n",
    "\n",
    "**Output:** \n",
    "\n",
    "* 0 if qubits were in the superposition state described by the first array,\n",
    "* 1 if they were in the superposition state described by the second array.\n",
    "\n",
    "**You are allowed to use exactly one measurement.**\n",
    "The state of the qubits at the end of the operation does not matter."
   ]
  },
  {
   "cell_type": "code",
   "execution_count": 20,
   "metadata": {},
   "outputs": [
    {
     "data": {
      "application/json": "[\"EqualAtIndex\"]",
      "text/html": [
       "<ul><li>EqualAtIndex</li></ul>"
      ],
      "text/plain": [
       "EqualAtIndex"
      ]
     },
     "execution_count": 20,
     "metadata": {},
     "output_type": "execute_result"
    }
   ],
   "source": [
    "function EqualAtIndex(arr1 : Bool[], arr2 : Bool[], idx : Int) : Bool {\n",
    "    return arr1[idx] == arr2[idx];\n",
    "}"
   ]
  },
  {
   "cell_type": "code",
   "execution_count": 24,
   "metadata": {},
   "outputs": [
    {
     "data": {
      "application/json": "\"Success!\"",
      "text/plain": [
       "Success!"
      ]
     },
     "execution_count": 24,
     "metadata": {},
     "output_type": "execute_result"
    }
   ],
   "source": [
    "%kata T108_SuperpositionOneMeasurement_Test\n",
    "\n",
    "open Microsoft.Quantum.Arrays;\n",
    "open Microsoft.Quantum.Convert;\n",
    "\n",
    "operation SuperpositionOneMeasurement (qs : Qubit[], bits1 : Bool[][], bits2 : Bool[][]) : Int {\n",
    "    for(i in 0..Length(qs)-1) {\n",
    "        let bits1Eq = All(EqualAtIndex(_, bits1[0], i), bits1[1..Length(bits1)-1]);\n",
    "        let bits2Eq = All(EqualAtIndex(_, bits2[0], i), bits2[1..Length(bits2)-1]);\n",
    "\n",
    "        if(bits1Eq and bits2Eq and bits1[0][i] != bits2[0][i]) {\n",
    "            return ResultAsBool(M(qs[i])) == bits1[0][i] ? 0 | 1;\n",
    "        }\n",
    "    }\n",
    "    return -1;\n",
    "}"
   ]
  },
  {
   "cell_type": "markdown",
   "metadata": {},
   "source": [
    "*Can't come up with a solution? See the explained solution in the [Measurements Workbook](./Workbook_Measurements.ipynb#Task-1.8.-Distinguish-two-superposition-states-given-by-two-arrays-of-bit-strings---1-measurement).*"
   ]
  },
  {
   "cell_type": "markdown",
   "metadata": {},
   "source": [
    "### Task 1.9. Distinguish two superposition states given by two arrays of bit strings\n",
    "\n",
    "**Inputs:** \n",
    "\n",
    "1. $N$ qubits (stored in an array of length $N$) which are guaranteed to be in one of the two superposition states described by the given arrays of bit strings.\n",
    "2. Two arrays of bit strings represented as `Bool[][]`s.  \n",
    "The arrays describe the superposition states in the same way as in the previous task,\n",
    "i.e. they have dimensions $M_1 \\times N$ and $M_2 \\times N$ respectively, $N$ being the number of qubits.\n",
    "\n",
    "The only constraint on the bit strings is that **all bit strings in the two arrays are distinct**. \n",
    "\n",
    "> Example:  for bit strings `[[false, true, false], [false, false, true]]` and `[[true, true, true], [false, true, true]]` return 0 corresponds to state $\\frac{1}{\\sqrt2}\\big(|010\\rangle + |001\\rangle\\big)$, return 1 to state $\\frac{1}{\\sqrt2}\\big(|111\\rangle + |011\\rangle\\big)$.\n",
    "\n",
    "**Output:** \n",
    "\n",
    "* 0 if qubits were in the superposition state described by the first array,\n",
    "* 1 if they were in the superposition state described by the second array.\n",
    "\n",
    "**You can use as many measurements as you wish.**\n",
    "The state of the qubits at the end of the operation does not matter."
   ]
  },
  {
   "cell_type": "code",
   "execution_count": 29,
   "metadata": {},
   "outputs": [
    {
     "data": {
      "application/json": "\"Success!\"",
      "text/plain": [
       "Success!"
      ]
     },
     "execution_count": 29,
     "metadata": {},
     "output_type": "execute_result"
    }
   ],
   "source": [
    "%kata T109_SuperpositionMeasurement_Test\n",
    "\n",
    "open Microsoft.Quantum.Arithmetic;\n",
    "open Microsoft.Quantum.Arrays;\n",
    "open Microsoft.Quantum.Convert;\n",
    "open Microsoft.Quantum.Logical;\n",
    "\n",
    "operation SuperpositionMeasurement (qs : Qubit[], bits1 : Bool[][], bits2 : Bool[][]) : Int {\n",
    "    let measured = MeasureInteger(LittleEndian(qs));\n",
    "    return IndexOf(EqualI(_, measured), Mapped(BoolArrayAsInt, bits1)) >= 0 ? 0 | 1;\n",
    "}"
   ]
  },
  {
   "cell_type": "markdown",
   "metadata": {},
   "source": [
    "*Can't come up with a solution? See the explained solution in the [Measurements Workbook](./Workbook_Measurements.ipynb#Task-1.9.-Distinguish-two-superposition-states-given-by-two-arrays-of-bit-strings).*"
   ]
  },
  {
   "cell_type": "markdown",
   "metadata": {},
   "source": [
    "### Task 1.10. $|0...0\\rangle$ state or W state ?\n",
    "\n",
    "**Input:** $N$ qubits (stored in an array of length $N$) which are guaranteed to be either in the $|0...0\\rangle$ state or in the [W state](https://en.wikipedia.org/wiki/W_state). \n",
    "\n",
    "**Output:**\n",
    "\n",
    "* 0 if the qubits were in the $|0...0\\rangle$ state,\n",
    "* 1 if they were in the W state.\n",
    "\n",
    "The state of the qubits at the end of the operation does not matter."
   ]
  },
  {
   "cell_type": "code",
   "execution_count": 31,
   "metadata": {},
   "outputs": [
    {
     "data": {
      "application/json": "\"Success!\"",
      "text/plain": [
       "Success!"
      ]
     },
     "execution_count": 31,
     "metadata": {},
     "output_type": "execute_result"
    }
   ],
   "source": [
    "%kata T110_AllZerosOrWState_Test\n",
    "\n",
    "open Microsoft.Quantum.Arithmetic;\n",
    "\n",
    "operation AllZerosOrWState (qs : Qubit[]) : Int {\n",
    "    return MeasureInteger(LittleEndian(qs)) == 0 ? 0 | 1;\n",
    "}"
   ]
  },
  {
   "cell_type": "markdown",
   "metadata": {},
   "source": [
    "*Can't come up with a solution? See the explained solution in the [Measurements Workbook](./Workbook_Measurements.ipynb#Task-1.10.-$|0...0\\rangle$-state-or-W-state-?).*"
   ]
  },
  {
   "cell_type": "markdown",
   "metadata": {},
   "source": [
    "### Task 1.11. GHZ state or W state ?\n",
    "\n",
    "**Input:** $N \\ge 2$ qubits (stored in an array of length $N$) which are guaranteed to be either in the [GHZ state](https://en.wikipedia.org/wiki/Greenberger%E2%80%93Horne%E2%80%93Zeilinger_state) or in the [W state](https://en.wikipedia.org/wiki/W_state).\n",
    "\n",
    "**Output:** \n",
    "\n",
    "* 0 if the qubits were in the GHZ state,\n",
    "* 1 if they were in the W state.\n",
    "\n",
    "The state of the qubits at the end of the operation does not matter."
   ]
  },
  {
   "cell_type": "code",
   "execution_count": 34,
   "metadata": {},
   "outputs": [
    {
     "data": {
      "application/json": "\"Success!\"",
      "text/plain": [
       "Success!"
      ]
     },
     "execution_count": 34,
     "metadata": {},
     "output_type": "execute_result"
    }
   ],
   "source": [
    "%kata T111_GHZOrWState_Test\n",
    "\n",
    "open Microsoft.Quantum.Arrays;\n",
    "\n",
    "operation GHZOrWState (qs : Qubit[]) : Int {\n",
    "    return Length(Filtered(IsResultOne, ForEach(M, qs))) == 1 ? 1 | 0;\n",
    "}"
   ]
  },
  {
   "cell_type": "markdown",
   "metadata": {},
   "source": [
    "*Can't come up with a solution? See the explained solution in the [Measurements Workbook](./Workbook_Measurements.ipynb#Task-1.11.-GHZ-state-or-W-state-?).*"
   ]
  },
  {
   "cell_type": "markdown",
   "metadata": {},
   "source": [
    "### Task 1.12. Distinguish four Bell states.\n",
    "\n",
    "**Input:** Two qubits (stored in an array of length 2) which are guaranteed to be in one of the four Bell states.\n",
    "\n",
    "**Output:**\n",
    "\n",
    "* 0 if they were in the state $|\\Phi^{+}\\rangle = \\frac{1}{\\sqrt{2}} \\big(|00\\rangle + |11\\rangle\\big)$,\n",
    "* 1 if they were in the state $|\\Phi^{-}\\rangle = \\frac{1}{\\sqrt{2}} \\big(|00\\rangle - |11\\rangle\\big)$,\n",
    "* 2 if they were in the state $|\\Psi^{+}\\rangle = \\frac{1}{\\sqrt{2}} \\big(|01\\rangle + |10\\rangle\\big)$,\n",
    "* 3 if they were in the state $|\\Psi^{-}\\rangle = \\frac{1}{\\sqrt{2}} \\big(|01\\rangle - |10\\rangle\\big)$.\n",
    "\n",
    "The state of the qubits at the end of the operation does not matter."
   ]
  },
  {
   "cell_type": "code",
   "execution_count": 38,
   "metadata": {},
   "outputs": [
    {
     "data": {
      "application/json": "\"Success!\"",
      "text/plain": [
       "Success!"
      ]
     },
     "execution_count": 38,
     "metadata": {},
     "output_type": "execute_result"
    }
   ],
   "source": [
    "%kata T112_BellState_Test\n",
    "\n",
    "open Microsoft.Quantum.Arithmetic;\n",
    "\n",
    "operation BellState (qs : Qubit[]) : Int {\n",
    "    CNOT(qs[0], qs[1]);\n",
    "    H(qs[0]);\n",
    "    return MeasureInteger(LittleEndian(qs));\n",
    "}"
   ]
  },
  {
   "cell_type": "markdown",
   "metadata": {},
   "source": [
    "*Can't come up with a solution? See the explained solution in the [Measurements Workbook](./Workbook_Measurements.ipynb#Task-1.12.-Distinguish-four-Bell-states.).*"
   ]
  },
  {
   "cell_type": "markdown",
   "metadata": {},
   "source": [
    "### Task 1.13. Distinguish four orthogonal 2-qubit states.\n",
    "\n",
    "**Input:** Two qubits (stored in an array of length 2) which are guaranteed to be in one of the four orthogonal states.\n",
    "\n",
    "**Output:**\n",
    "\n",
    "* 0 if they were in the state $|S_0\\rangle = \\frac{1}{2} \\big(|00\\rangle + |01\\rangle + |10\\rangle + |11\\rangle\\big)$,\n",
    "* 1 if they were in the state $|S_1\\rangle = \\frac{1}{2} \\big(|00\\rangle - |01\\rangle + |10\\rangle - |11\\rangle\\big)$,\n",
    "* 2 if they were in the state $|S_2\\rangle = \\frac{1}{2} \\big(|00\\rangle + |01\\rangle - |10\\rangle - |11\\rangle\\big)$,\n",
    "* 3 if they were in the state $|S_3\\rangle = \\frac{1}{2} \\big(|00\\rangle - |01\\rangle - |10\\rangle + |11\\rangle\\big)$.\n",
    "\n",
    "The state of the qubits at the end of the operation does not matter."
   ]
  },
  {
   "cell_type": "code",
   "execution_count": 40,
   "metadata": {},
   "outputs": [
    {
     "data": {
      "application/json": "\"Success!\"",
      "text/plain": [
       "Success!"
      ]
     },
     "execution_count": 40,
     "metadata": {},
     "output_type": "execute_result"
    }
   ],
   "source": [
    "%kata T113_TwoQubitState_Test\n",
    "\n",
    "open Microsoft.Quantum.Arithmetic;\n",
    "\n",
    "operation TwoQubitState (qs : Qubit[]) : Int {\n",
    "    ApplyToEach(H, qs);\n",
    "    return MeasureInteger(LittleEndian(qs[1..-1..0]));\n",
    "}"
   ]
  },
  {
   "cell_type": "markdown",
   "metadata": {},
   "source": [
    "*Can't come up with a solution? See the explained solution in the [Measurements Workbook](./Workbook_Measurements.ipynb#Task-1.13.-Distinguish-four-orthogonal-2-qubit-states.).*"
   ]
  },
  {
   "cell_type": "markdown",
   "metadata": {},
   "source": [
    "### Task 1.14*. Distinguish four orthogonal 2-qubit states, part 2.\n",
    "\n",
    "**Input:** Two qubits (stored in an array of length 2) which are guaranteed to be in one of the four orthogonal states.\n",
    "\n",
    "**Output:**\n",
    "\n",
    "* 0 if they were in the state $|S_0\\rangle = \\frac{1}{2} \\big(+ |00\\rangle - |01\\rangle - |10\\rangle - |11\\rangle\\big)$,\n",
    "* 1 if they were in the state $|S_1\\rangle = \\frac{1}{2} \\big(- |00\\rangle + |01\\rangle - |10\\rangle - |11\\rangle\\big)$,\n",
    "* 2 if they were in the state $|S_2\\rangle = \\frac{1}{2} \\big(- |00\\rangle - |01\\rangle + |10\\rangle - |11\\rangle\\big)$,\n",
    "* 3 if they were in the state $|S_3\\rangle = \\frac{1}{2} \\big(- |00\\rangle - |01\\rangle - |10\\rangle + |11\\rangle\\big)$.\n",
    "\n",
    "The state of the qubits at the end of the operation does not matter."
   ]
  },
  {
   "cell_type": "code",
   "execution_count": 43,
   "metadata": {},
   "outputs": [
    {
     "data": {
      "application/json": "\"Success!\"",
      "text/plain": [
       "Success!"
      ]
     },
     "execution_count": 43,
     "metadata": {},
     "output_type": "execute_result"
    }
   ],
   "source": [
    "%kata T114_TwoQubitStatePartTwo_Test\n",
    "\n",
    "open Microsoft.Quantum.Arithmetic;\n",
    "\n",
    "operation TwoQubitStatePartTwo (qs : Qubit[]) : Int {\n",
    "    ApplyToEach(X, qs);\n",
    "    (Controlled Z)([qs[0]], qs[1]);\n",
    "    ApplyToEach(H, qs);\n",
    "    return MeasureInteger(LittleEndian(qs)); \n",
    "}"
   ]
  },
  {
   "cell_type": "markdown",
   "metadata": {},
   "source": [
    "<i>Can't come up with a solution? See the explained solution in the [Measurements Workbook](./Workbook_Measurements.ipynb#Task-1.14*.-Distinguish-four-orthogonal-2-qubit-states,-part-2.).</i>"
   ]
  },
  {
   "cell_type": "markdown",
   "metadata": {},
   "source": [
    "### Task 1.15**. Distinguish two orthogonal states on three qubits.\n",
    "\n",
    "**Input:** Three qubits (stored in an array of length 3) which are guaranteed to be in one of the two orthogonal states.\n",
    "\n",
    "**Output:**\n",
    "\n",
    "* 0 if they were in the state $|S_0\\rangle = \\frac{1}{\\sqrt{3}} \\big(|100\\rangle + \\omega |010\\rangle + \\omega^2 |001\\rangle \\big)$,\n",
    "* 1 if they were in the state $|S_1\\rangle = \\frac{1}{\\sqrt{3}} \\big(|100\\rangle + \\omega^2 |010\\rangle + \\omega |001\\rangle \\big)$.\n",
    "\n",
    "Here $\\omega = e^{2i \\pi/ 3}$.\n",
    "\n",
    "The state of the qubits at the end of the operation does not matter."
   ]
  },
  {
   "cell_type": "code",
   "execution_count": 44,
   "metadata": {},
   "outputs": [
    {
     "data": {
      "application/json": "[\"WState_Arbitrary\"]",
      "text/html": [
       "<ul><li>WState_Arbitrary</li></ul>"
      ],
      "text/plain": [
       "WState_Arbitrary"
      ]
     },
     "execution_count": 44,
     "metadata": {},
     "output_type": "execute_result"
    }
   ],
   "source": [
    "open Microsoft.Quantum.Convert;\n",
    "open Microsoft.Quantum.Math;\n",
    "\n",
    "operation WState_Arbitrary (qs : Qubit[]) : Unit is Adj+Ctl {\n",
    "    let n = Length(qs);\n",
    "    \n",
    "    Ry(2.0 * ArcSin(Sqrt(1.0 / IntAsDouble(n))), qs[0]);\n",
    "    if(n > 1) {\n",
    "        (ControlledOnInt(0, WState_Arbitrary))([qs[0]], qs[1..n-1]);\n",
    "    }\n",
    "}"
   ]
  },
  {
   "cell_type": "code",
   "execution_count": 54,
   "metadata": {},
   "outputs": [
    {
     "data": {
      "application/json": "\"Success!\"",
      "text/plain": [
       "Success!"
      ]
     },
     "execution_count": 54,
     "metadata": {},
     "output_type": "execute_result"
    }
   ],
   "source": [
    "%kata T115_ThreeQubitMeasurement_Test\n",
    "\n",
    "open Microsoft.Quantum.Arrays;\n",
    "open Microsoft.Quantum.Diagnostics;\n",
    "open Microsoft.Quantum.Math;\n",
    "\n",
    "operation ThreeQubitMeasurement (qs : Qubit[]) : Int {\n",
    "    R1(-2.0 * PI() / 3.0, qs[1]);\n",
    "    R1(-4.0 * PI() / 3.0, qs[2]);\n",
    "    (Adjoint WState_Arbitrary)(qs);\n",
    "    return Any(IsResultOne, ForEach(M, qs)) ? 1 | 0;\n",
    "}"
   ]
  },
  {
   "cell_type": "markdown",
   "metadata": {},
   "source": [
    "<i>Can't come up with a solution? See the explained solution in the [Measurements Workbook](./Workbook_Measurements.ipynb#Task-1.15**.-Distinguish-two-orthogonal-states-on-three-qubits.).</i>"
   ]
  },
  {
   "cell_type": "markdown",
   "metadata": {},
   "source": [
    "## Part II*. Discriminating Nonorthogonal States\n",
    "\n",
    "Variations of quantum state discrimination tasks are covered in the paper [\"Quantum State Discrimination\"](https://arxiv.org/pdf/quant-ph/0010114.pdf).\n",
    "* Task 2.1 is an example of hypothesis testing for two pure states.\n",
    "* Task 2.2 is an example of unambiguous state discrimination. See also the paper [\"Unambiguous quantum measurement of nonorthogonal states\"](https://www.researchgate.net/publication/13375059_Unambiguous_quantum_measurement_of_nonorthogonal_states)\n",
    "  for further information and hints about how to implement the unambiguous measurements required for this task. \n",
    "* Task 2.3 is the so-called Wootters/Peres game. See the following three references for more information and in particular\n",
    "  the book [3, p. 287] for a nice description of the optimal POVM. \n",
    "\n",
    "  [1] A. Holevo, “Information-theoretical aspects of quantum measurement,” Problems of Information Transmission, vol. 9, no. 2, pp. 110–118 (1973)\n",
    "\n",
    "  [2] A. Peres and W. K. Wootters, “Optimal detection of quantum information,” Phys. Rev. Lett., vol. 66, pp. 1119-1122, Mar. 1991.\n",
    "\n",
    "  [3] A. Peres, “Quantum Theory: Concepts and Methods,” Kluwer Academic Publishers, 2002."
   ]
  },
  {
   "cell_type": "markdown",
   "metadata": {},
   "source": [
    "### <a name=\"task-21\"></a>Task 2.1*. $|0\\rangle$ or $|+\\rangle$?\n",
    "\n",
    "**Input:** A qubit which is guaranteed to be in either the $|0\\rangle$ or the $|+\\rangle$ state.\n",
    "\n",
    "**Output:**  `true` if the qubit was in the $|0\\rangle$ state, or `false` if it was in the $|+\\rangle$ state. The state of the qubit at the end of the operation does not matter.\n",
    "\n",
    "In this task your solution will be called multiple times, with one of the states picked with equal probability every time. You have to get overall accuracy of at least 80%.\n",
    "\n",
    "> This task is an example of quantum hypothesis testing, or state discrimination with minimum error."
   ]
  },
  {
   "cell_type": "code",
   "execution_count": 56,
   "metadata": {},
   "outputs": [
    {
     "data": {
      "application/json": "\"Success!\"",
      "text/plain": [
       "Success!"
      ]
     },
     "execution_count": 56,
     "metadata": {},
     "output_type": "execute_result"
    }
   ],
   "source": [
    "%kata T201_IsQubitZeroOrPlus_Test\n",
    "\n",
    "open Microsoft.Quantum.Math;\n",
    "\n",
    "operation IsQubitPlusOrZero (q : Qubit) : Bool {\n",
    "    Ry(PI() / 4.0, q);\n",
    "    return M(q) == Zero;\n",
    "}"
   ]
  },
  {
   "cell_type": "markdown",
   "metadata": {},
   "source": [
    "*Can't come up with a solution? See the explained solution in the [Measurements Workbook](./Workbook_Measurements_Part2.ipynb#task-21).*"
   ]
  },
  {
   "cell_type": "markdown",
   "metadata": {},
   "source": [
    "### <a name=\"task-22\"></a>Task 2.2**. $|0\\rangle$, $|+\\rangle$ or inconclusive?\n",
    "\n",
    "**Input:** A qubit which is guaranteed to be in either the $|0\\rangle$ or the $|+\\rangle$ state.\n",
    "\n",
    "**Output:** \n",
    "\n",
    "* 0 if the qubit was in the $|0\\rangle$ state, \n",
    "* 1 if it was in the $|+\\rangle$ state,\n",
    "* -1 if you can't decide, i.e., an \"inconclusive\" result. \n",
    "\n",
    "Your solution:\n",
    "\n",
    "* should never give 0 or 1 answer incorrectly (i.e., identify $|0\\rangle$ as 1 or $|+\\rangle$ as 0),\n",
    "* will be called multiple times, with one of the states picked with equal probability every time,\n",
    "* may give an inconclusive (-1) answer in at most 80% of all the cases,\n",
    "* must correctly identify the $|0\\rangle$ state as 0 in at least 10% of all the cases,\n",
    "* must correctly identify the $|1\\rangle$ state as 1 in at least 10% of all the cases.\n",
    "\n",
    "The state of the qubit at the end of the operation does not matter.\n",
    "\n",
    "> This task is an example of unambiguous state discrimination.\n",
    "\n",
    "<br/>\n",
    "<details>\n",
    "  <summary><b>Need a hint? Click here</b></summary>\n",
    "  You can use extra qubit(s) is your solution.\n",
    "</details>"
   ]
  },
  {
   "cell_type": "code",
   "execution_count": 65,
   "metadata": {},
   "outputs": [
    {
     "data": {
      "application/json": "\"Success!\"",
      "text/plain": [
       "Success!"
      ]
     },
     "execution_count": 65,
     "metadata": {},
     "output_type": "execute_result"
    }
   ],
   "source": [
    "%kata T202_IsQubitZeroOrPlusSimpleUSD_Test\n",
    "\n",
    "open Microsoft.Quantum.Math;\n",
    "open Microsoft.Quantum.Diagnostics;\n",
    "\n",
    "operation IsQubitPlusZeroOrInconclusiveSimpleUSD (q : Qubit) : Int {\n",
    "    if(RandomInt(2) == 0) {\n",
    "        return M(q) == One ? 1 | -1;\n",
    "    } else {\n",
    "        Ry(PI() / 2.0, q);\n",
    "        return M(q) == Zero ? 0 | -1;\n",
    "    }\n",
    "}"
   ]
  },
  {
   "cell_type": "markdown",
   "metadata": {},
   "source": [
    "*Can't come up with a solution? See the explained solution in the [Measurements Workbook](./Workbook_Measurements_Part2.ipynb#task-22).*"
   ]
  },
  {
   "cell_type": "markdown",
   "metadata": {},
   "source": [
    "### <a name=\"peres-wooters-game\"></a>Task 2.3**.  Peres/Wooters game\n",
    "\n",
    "**Input:** A qubit which is guaranteed to be in one of the three states:\n",
    "\n",
    "* $|A\\rangle = \\frac{1}{\\sqrt{2}} \\big( |0\\rangle + |1\\rangle \\big)$,\n",
    "* $|B\\rangle = \\frac{1}{\\sqrt{2}} \\big( |0\\rangle + \\omega |1\\rangle \\big)$,\n",
    "* $|C\\rangle = \\frac{1}{\\sqrt{2}} \\big( |0\\rangle + \\omega^2 |1\\rangle \\big)$,\n",
    "\n",
    "Here $\\omega = e^{2i \\pi/ 3}$.\n",
    "\n",
    "**Output:** \n",
    "\n",
    "* 1 or 2 if the qubit was in the $|A\\rangle$ state, \n",
    "* 0 or 2 if the qubit was in the $|B\\rangle$ state, \n",
    "* 0 or 1 if the qubit was in the $|C\\rangle$ state.\n",
    "\n",
    "You are never allowed to give an incorrect answer. Your solution will be called multiple times, with one of the states picked with equal probability every time.\n",
    "\n",
    "The state of the qubit at the end of the operation does not matter. "
   ]
  },
  {
   "cell_type": "code",
   "execution_count": null,
   "metadata": {},
   "outputs": [],
   "source": [
    "%kata T203_IsQubitNotInABC_Test\n",
    "\n",
    "operation IsQubitNotInABC (q : Qubit) : Int {\n",
    "    // ...\n",
    "}"
   ]
  },
  {
   "cell_type": "markdown",
   "metadata": {},
   "source": [
    "*Can't come up with a solution? See the explained solution in the [Measurements Workbook](./Workbook_Measurements_Part2.ipynb#peres-wooters-game).*"
   ]
  }
 ],
 "metadata": {
  "kernelspec": {
   "display_name": "Q#",
   "language": "qsharp",
   "name": "iqsharp"
  },
  "language_info": {
   "file_extension": ".qs",
   "mimetype": "text/x-qsharp",
   "name": "qsharp",
   "version": "0.12"
  }
 },
 "nbformat": 4,
 "nbformat_minor": 2
}
